{
  "nbformat": 4,
  "nbformat_minor": 0,
  "metadata": {
    "colab": {
      "name": "codificacao-decodificacao-das-credenciais.ipynb",
      "provenance": []
    },
    "kernelspec": {
      "name": "python3",
      "display_name": "Python 3"
    },
    "language_info": {
      "name": "python"
    }
  },
  "cells": [
    {
      "cell_type": "code",
      "execution_count": 1,
      "metadata": {
        "id": "4WFmm66VMMlO"
      },
      "outputs": [],
      "source": [
        "## Para codificar o arquivo JSON\n",
        "import base64\n",
        "import datetime\n",
        "import json\n",
        "import os\n",
        "\n",
        "nome = \"XXXXXX.json\" # trocar pelo nome do arquivo\n",
        "spreadsheet_id = \"xxxxxxxxxxx\" # trocar pela ID da planilha\n"
      ]
    },
    {
      "cell_type": "markdown",
      "source": [
        "### Setar no Heroku as variáveis `GOOGLE_SHEET_ID` com o valor da spreadsheet_id e `GOOGLE_SHEETS_CREDENTIALS` com o conteúdo que está entre aspas na saída do `print(conteudo_codificado)`"
      ],
      "metadata": {
        "id": "rVWMD-kKOgNh"
      }
    },
    {
      "cell_type": "code",
      "source": [
        "arquivo = open(nome, mode=\"rb\")\n",
        "conteudo = arquivo.read() ##abrindo o arquivo json\n",
        "conteudo_codificado = base64.b64encode(conteudo) # codificando o conteudo em bytes\n",
        "print(conteudo_codificado)  ## copiar o conteúdo do print entre as aspas e colar no Heroku"
      ],
      "metadata": {
        "id": "H9PR-EDSQR7q"
      },
      "execution_count": null,
      "outputs": []
    },
    {
      "cell_type": "code",
      "source": [
        "# NO HEROKU\n",
        "# GOOGLE_SHEET_ID = spreadsheet_id\n",
        "# GOOGLE_SHEETS_CREDENTIALS = conteúdo que está entre aspas na saída do print(conteudo_codificado)"
      ],
      "metadata": {
        "id": "9z315qaNOGxj"
      },
      "execution_count": 5,
      "outputs": []
    },
    {
      "cell_type": "markdown",
      "source": [
        "### Setar no Github as`GOOGLE_SHEETS_CREDENTIALS` com o conteúdo decodificado"
      ],
      "metadata": {
        "id": "S8Otnwm2PfIH"
      }
    },
    {
      "cell_type": "code",
      "source": [
        "## Decodificando o conteúdo no github\n",
        "spreadsheet_id = os.environ[\"GOOGLE_SHEET_ID\"]\n",
        "conteudo_codificado = os.environ[\"GOOGLE_SHEETS_CREDENTIALS\"]\n",
        "conteudo = base64.b64decode(conteudo_codificado)\n",
        "credentials = json.loads(conteudo)"
      ],
      "metadata": {
        "id": "36xVHH-9Kvzl"
      },
      "execution_count": null,
      "outputs": []
    }
  ]
}