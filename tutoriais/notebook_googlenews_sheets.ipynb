{
  "nbformat": 4,
  "nbformat_minor": 0,
  "metadata": {
    "colab": {
      "name": "notebook-googlenews-sheets.ipynb",
      "provenance": []
    },
    "kernelspec": {
      "name": "python3",
      "display_name": "Python 3"
    },
    "language_info": {
      "name": "python"
    }
  },
  "cells": [
    {
      "cell_type": "code",
      "execution_count": null,
      "metadata": {
        "id": "j-e3MfznKmqN"
      },
      "outputs": [],
      "source": [
        "# Instalando as bibliotecas necessárias\n",
        "!pip install GoogleNews\n",
        "!pip install gspread\n",
        "!pip install -U gspread oauth2client"
      ]
    },
    {
      "cell_type": "code",
      "source": [
        "# Importações\n",
        "from GoogleNews import GoogleNews\n",
        "import pandas as pd\n",
        "import gspread"
      ],
      "metadata": {
        "id": "LL3236s1Vd7u"
      },
      "execution_count": null,
      "outputs": []
    },
    {
      "cell_type": "code",
      "source": [
        "df"
      ],
      "metadata": {
        "id": "8kidsjnVPUEO"
      },
      "execution_count": null,
      "outputs": []
    },
    {
      "cell_type": "code",
      "source": [
        "nome = \"arquivo.json\"\n",
        "spreadsheet_id = \"xxxxxxxxxx\" #trocar pelo id da planilha\n",
        "arquivo = open(nome)\n",
        "credentials = json.load(arquivo)\n",
        "service_account = gspread.service_account_from_dict(credentials) # autenticação\n",
        "spreadsheet = service_account.open_by_key(spreadsheet_id) # \"abrir\" o arquivo\n",
        "worksheet = spreadsheet.worksheet(\"Página1\") # escolhe uma aba"
      ],
      "metadata": {
        "id": "74FxCM1JVSnd"
      },
      "execution_count": 5,
      "outputs": []
    },
    {
      "cell_type": "code",
      "source": [
        "## Definindo os parâmetros de busca no GoogleNews\n",
        "googlenews=GoogleNews(period='d') # dia\n",
        "googlenews.setlang('pt') #idioma: Português\n",
        "googlenews.search('NFT') # termo pesquisado: NFT\n",
        "result=googlenews.result() # resultados\n",
        "df=pd.DataFrame(result) #colocando os resultados em um pandas dataframe\n",
        "del df['datetime'] # deletando a coluna \"datetime\" (não é necessária na visualização)\n",
        "worksheet.update([df.columns.values.tolist()] + df.values.tolist()) # atualizando a planilha do googlesheets"
      ],
      "metadata": {
        "id": "n38CUzbfVt9E"
      },
      "execution_count": null,
      "outputs": []
    }
  ]
}